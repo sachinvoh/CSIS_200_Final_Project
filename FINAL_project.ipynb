{
 "cells": [
  {
   "cell_type": "markdown",
   "metadata": {},
   "source": [
    "# Final project\n",
    "\n",
    "**Can you escape a velociraptor?**\n",
    "\n",
    "Your goal is to figure out whether or not a velociraptor will catch you or if you can outrun it!\n",
    "\n",
    "## Problem 1. Position vs. time\n",
    "\n",
    "Suppose a velociraptor can run 18 m/s. And suppose you can run at 3 m/s, but you have a 30 meter head start. Assume that you and the 'raptor accelerate so quickly that you can ignore acceleration. \n",
    "\n",
    "Make a plot of the position vs. time for both you and the 'raptor (plot both on the same figure). Clearly label all axes and give the plot a legend. Plot over a suitable time frame. Save the figure as a .png file. \n",
    "\n",
    "*This plot will be included in your write-up*."
   ]
  },
  {
   "cell_type": "code",
   "execution_count": 1,
   "metadata": {
    "collapsed": false
   },
   "outputs": [
    {
     "data": {
      "image/png": "[encoded data removed]",
      "text/plain": [
       "<matplotlib.figure.Figure at 0xa2164e0>"
      ]
     },
     "metadata": {},
     "output_type": "display_data"
    }
   ],
   "source": [
    "# Your code here. \n",
    "from matplotlib import pyplot as plt\n",
    "%matplotlib inline\n",
    "import numpy as np\n",
    "\n",
    "v_1 = 18 \n",
    "v_2 = 3\n",
    "\n",
    "time = [] \n",
    "for i in range(0,250):\n",
    "    y = i/10.0\n",
    "    time.append(y)\n",
    "\n",
    "#V_Equation \n",
    "x_1 = []\n",
    "for i in time:\n",
    "    s = 18 * i\n",
    "    x_1.append(s)\n",
    "\n",
    "#P_Equation \n",
    "x_2 = []\n",
    "for i in time:\n",
    "    v = 3 * i + 30 \n",
    "    x_2.append(v)\n",
    "    \n",
    "\n",
    "#Person\n",
    "plt.plot(time,x_1,'r', label = 'Person')\n",
    "#Velociraptor\n",
    "plt.plot(time,x_2,'g', label = 'Velociraptor')\n",
    "plt.xlabel('Time(s)')\n",
    "plt.ylabel('Position(m)')\n",
    "plt.legend(loc='lower right')\n",
    "plt.xlim(0,5)\n",
    "plt.ylim(0,80)\n",
    "plt.savefig('PositionVsTime.png')\n",
    "\n",
    "\n",
    "\n",
    "\n"
   ]
  },
  {
   "cell_type": "markdown",
   "metadata": {},
   "source": [
    "## Problem 2. When does the 'raptor catch up to you?\n",
    "\n",
    "Use your code to figure out when the raptor catches up to you. Both how much time has passed and how far *you* have run.  \n",
    "\n",
    "Do not just get this information off the graph. Use your Python code to figure this out! Getting the information just by looking at the plot will result in a 0 for this question. You can use an analytic approach (algebra) to check your answer, but that is not the approach I want you to use. Depending on how you write your code, you might not get an *exact* answer, but you should find a way to get pretty close to the algebraic solution. "
   ]
  },
  {
   "cell_type": "code",
   "execution_count": 2,
   "metadata": {
    "collapsed": false
   },
   "outputs": [
    {
     "name": "stdout",
     "output_type": "stream",
     "text": [
      "The Velociraptor catches up to person at 2.000000 seconds\n",
      "The Velociraptor catches up to you at 24.900000 meters\n"
     ]
    }
   ],
   "source": [
    "for x in time: \n",
    "    p = 3 * x + 30\n",
    "    v = 18 * x\n",
    "    if p == v: \n",
    "        print \"The Velociraptor catches up to person at %f seconds\" % (x)\n",
    "        print \"The Velociraptor catches up to you at %f meters\" % (y)"
   ]
  },
  {
   "cell_type": "markdown",
   "metadata": {},
   "source": [
    "## Problem 3. When is it close enough to strike?\n",
    "\n",
    "It turns out the 'raptor will start trying to attack when it is 1 meter away. How much time has passed and how far have you run when it is 1 meter behind you? Use a similar approach as the last problem. \n",
    "\n",
    "***Also make a new copy of the above plot, but label (with a line or arrow or whatever you want) the point at which the raptor is 1 meter behind you.***"
   ]
  },
  {
   "cell_type": "code",
   "execution_count": 5,
   "metadata": {
    "collapsed": false
   },
   "outputs": [
    {
     "name": "stdout",
     "output_type": "stream",
     "text": [
      "The Velociraptor is one meter behind person at 2.000000 seconds.\n"
     ]
    },
    {
     "data": {
      "image/png": "[encoded data removed]",
      "text/plain": [
       "<matplotlib.figure.Figure at 0xa5f1940>"
      ]
     },
     "metadata": {},
     "output_type": "display_data"
    }
   ],
   "source": [
    "# Your code here\n",
    "for x in time: \n",
    "    p = 3 * x + 30\n",
    "    v = 18 * x\n",
    "    if p == v: \n",
    "        print \"The Velociraptor is one meter behind person at %f seconds.\" % (x)\n",
    "\n",
    "#Person\n",
    "plt.plot(time,x_1,'r', label = 'Person')\n",
    "#Velociraptor\n",
    "plt.plot(time,x_2,'g', label = 'Velociraptor')\n",
    "plt.xlabel('Time(s)')\n",
    "plt.ylabel('Position(m)')\n",
    "plt.legend(loc='lower right')\n",
    "\n",
    "\n",
    "plt.xlim(0,5)\n",
    "plt.ylim(0,80)\n",
    "plt.arrow(1.9,21,0.0,10,head_width = .2,head_length = 4)\n",
    "\n",
    "plt.savefig('OneMeterBehind.png')\n"
   ]
  },
  {
   "cell_type": "markdown",
   "metadata": {},
   "source": [
    "## Problem 4. Will it bite you?\n",
    "\n",
    "When the 'raptor is 1 meter away, it will try to bite you. If it doesn't bite you, it will try a second and (if necessary) a third time. If it doesn't get you on the third try, it will grow frustrated and stop chasing you. Hurray!\n",
    "\n",
    "Suppose the first time it tries, there is a 20% chance it will bite you. If it misses and it needs to try a second time, there is only a 15% chance, and if it misses *that* time, there is only a 7% chance on the third try. \n",
    "\n",
    "If it bites you once, you're 'raptor food. If it misses all three times, you get away!\n",
    "\n",
    "What is the probability that you will get away?\n"
   ]
  },
  {
   "cell_type": "code",
   "execution_count": 4,
   "metadata": {
    "collapsed": false
   },
   "outputs": [
    {
     "name": "stdout",
     "output_type": "stream",
     "text": [
      "The probability of the Human escaping is about 62.30%.\n"
     ]
    }
   ],
   "source": [
    "# Your code here\n",
    "# USE nested conditionals \n",
    "# Nested Conditional Python \n",
    "\n",
    "def Safe(): \n",
    "    Attempt_1 = np.random.randint(100)\n",
    "    Attempt_2 = np.random.randint(100)\n",
    "    Final_Attempt = np.random.randint(100) \n",
    "    \n",
    "    if Attempt_1 <= 20:\n",
    "        return \"Human is bit.\"\n",
    "    \n",
    "    elif Attempt_2 <= 15:\n",
    "        return \"Human is bit.\"\n",
    "    \n",
    "    elif Final_Attempt <= 7:\n",
    "        return \"Human is bit.\"\n",
    "    \n",
    "    else: \n",
    "        return \"Human got away!\"\n",
    "\n",
    "failures = 0\n",
    "successes = 0\n",
    "for i in range(0,1000):\n",
    "    i += 1 \n",
    "    t = Safe()\n",
    "    if t == \"Human is bit.\":\n",
    "        failures += 1 \n",
    "    elif t == \"Human got away!\":\n",
    "        successes += 1 \n",
    "probability = (successes/float(1000))*100\n",
    "print \"The probability of the Human escaping is about %.2f%%.\" % probability \n",
    "\n"
   ]
  },
  {
   "cell_type": "code",
   "execution_count": null,
   "metadata": {
    "collapsed": false
   },
   "outputs": [],
   "source": []
  },
  {
   "cell_type": "code",
   "execution_count": null,
   "metadata": {
    "collapsed": true
   },
   "outputs": [],
   "source": []
  }
 ],
 "metadata": {
  "kernelspec": {
   "display_name": "Python 2",
   "language": "python",
   "name": "python2"
  },
  "language_info": {
   "codemirror_mode": {
    "name": "ipython",
    "version": 2
   },
   "file_extension": ".py",
   "mimetype": "text/x-python",
   "name": "python",
   "nbconvert_exporter": "python",
   "pygments_lexer": "ipython2",
   "version": "2.7.10"
  }
 },
 "nbformat": 4,
 "nbformat_minor": 0
}
